{
  "nbformat": 4,
  "nbformat_minor": 0,
  "metadata": {
    "colab": {
      "provenance": [],
      "include_colab_link": true
    },
    "kernelspec": {
      "name": "python3",
      "display_name": "Python 3"
    },
    "language_info": {
      "name": "python"
    }
  },
  "cells": [
    {
      "cell_type": "markdown",
      "metadata": {
        "id": "view-in-github",
        "colab_type": "text"
      },
      "source": [
        "<a href=\"https://colab.research.google.com/github/Edmito/RemediAI/blob/main/RemediAI.ipynb\" target=\"_parent\"><img src=\"https://colab.research.google.com/assets/colab-badge.svg\" alt=\"Open In Colab\"/></a>"
      ]
    },
    {
      "cell_type": "markdown",
      "source": [
        "## Instalando SDK para ter acesso ao gemini"
      ],
      "metadata": {
        "id": "MHnQ6nvXQMNJ"
      }
    },
    {
      "cell_type": "code",
      "execution_count": 1,
      "metadata": {
        "id": "SkspjcAtonAE"
      },
      "outputs": [],
      "source": [
        "!pip install -q -U google-generativeai"
      ]
    },
    {
      "cell_type": "markdown",
      "source": [
        "# Importando os principais pacotes SDK e Definindo a Google API Key\n",
        "Lembre de adicionar sua API KEY no google colab."
      ],
      "metadata": {
        "id": "9Fjzc3seQiCy"
      }
    },
    {
      "cell_type": "code",
      "source": [
        "import pathlib\n",
        "import textwrap\n",
        "\n",
        "import google.generativeai as genai\n",
        "from google.colab import userdata\n",
        "\n",
        "from IPython.display import display\n",
        "from IPython.display import Markdown\n",
        "\n",
        "\n",
        "def to_markdown(text):\n",
        "  text = text.replace('•', '  *')\n",
        "  return Markdown(textwrap.indent(text, '> ', predicate=lambda _: True))\n",
        "\n",
        "GOOGLE_API_KEY=userdata.get('secret_api')\n",
        "\n",
        "genai.configure(api_key=GOOGLE_API_KEY)"
      ],
      "metadata": {
        "id": "m_JvoLzkqoNI"
      },
      "execution_count": 2,
      "outputs": []
    },
    {
      "cell_type": "markdown",
      "source": [
        "# Definindo as configurações do modelo e safety settings"
      ],
      "metadata": {
        "id": "r0mTVattQ7yI"
      }
    },
    {
      "cell_type": "code",
      "source": [
        "# Configuração do modelo\n",
        "generation_config = {\n",
        "  \"temperature\": 1,\n",
        "  \"top_p\": 0.95,\n",
        "  \"top_k\": 0,\n",
        "  \"max_output_tokens\": 8192,\n",
        "}\n",
        "\n",
        "safety_settings = [\n",
        "  {\n",
        "    \"category\": \"HARM_CATEGORY_HARASSMENT\",\n",
        "    \"threshold\": \"BLOCK_MEDIUM_AND_ABOVE\"\n",
        "  },\n",
        "  {\n",
        "    \"category\": \"HARM_CATEGORY_HATE_SPEECH\",\n",
        "    \"threshold\": \"BLOCK_MEDIUM_AND_ABOVE\"\n",
        "  },\n",
        "  {\n",
        "    \"category\": \"HARM_CATEGORY_SEXUALLY_EXPLICIT\",\n",
        "    \"threshold\": \"BLOCK_MEDIUM_AND_ABOVE\"\n",
        "  },\n",
        "  {\n",
        "    \"category\": \"HARM_CATEGORY_DANGEROUS_CONTENT\",\n",
        "    \"threshold\": \"BLOCK_MEDIUM_AND_ABOVE\"\n",
        "  },\n",
        "]"
      ],
      "metadata": {
        "id": "53VkyGIzsWJv"
      },
      "execution_count": 3,
      "outputs": []
    },
    {
      "cell_type": "markdown",
      "source": [
        "# Definindo como o modelo deve agir."
      ],
      "metadata": {
        "id": "Z8jZWAc0uV8q"
      }
    },
    {
      "cell_type": "code",
      "source": [
        "system_instruction = \"Você é um assistente digital focado em saúde e bem-estar, especializado em fornecer informações sobre remédios e produtos naturais para aliviar sintomas. \\n  Sua tarefa é analisar o sintoma descrito pelo usuário e recomendar soluções. \\n\\n  **Siga estas diretrizes:**\\n\\n  * **Concentre-se exclusivamente em remédios e produtos naturais, não responda outros tipos de perguntas fora do contexto de remedios e sintomas.** Não forneça informações sobre outras áreas da saúde, como diagnósticos, exames ou tratamentos complexos.\\n  * **Responda apenas com as informações solicitadas e se possivel para a região do brasil.** Não inclua conselhos médicos, informações sobre prevenção de doenças ou tratamentos alternativos.\\n  * **Baseie suas recomendações em fontes confiáveis.** Priorize sites de órgãos governamentais de saúde, instituições de pesquisa médica renomadas,  e sites com reconhecida reputação na área da saúde.\""
      ],
      "metadata": {
        "id": "Ayq8uWkKO6og"
      },
      "execution_count": 11,
      "outputs": []
    },
    {
      "cell_type": "markdown",
      "source": [
        "# Criando modelo e adicionando as configurações necessárias."
      ],
      "metadata": {
        "id": "a_jyzWkBRM4y"
      }
    },
    {
      "cell_type": "code",
      "source": [
        "model = genai.GenerativeModel(model_name=\"gemini-1.5-pro-latest\",\n",
        "                              generation_config=generation_config,\n",
        "                              system_instruction=system_instruction,\n",
        "                              safety_settings=safety_settings)"
      ],
      "metadata": {
        "id": "zk9MTr36uYOD"
      },
      "execution_count": 12,
      "outputs": []
    },
    {
      "cell_type": "markdown",
      "source": [
        "#Testando a requisição do modelo criado"
      ],
      "metadata": {
        "id": "b2Vg2hECl4iJ"
      }
    },
    {
      "cell_type": "code",
      "source": [
        "%%time\n",
        "response = model.generate_content(\"dor de cabeça\")"
      ],
      "metadata": {
        "colab": {
          "base_uri": "https://localhost:8080/",
          "height": 52
        },
        "id": "0KDYubo4CNok",
        "outputId": "bb8cdd60-52ae-4585-820f-40b704a90f93"
      },
      "execution_count": 6,
      "outputs": [
        {
          "output_type": "stream",
          "name": "stdout",
          "text": [
            "CPU times: user 127 ms, sys: 14 ms, total: 141 ms\n",
            "Wall time: 6.03 s\n"
          ]
        }
      ]
    },
    {
      "cell_type": "code",
      "source": [
        "to_markdown(response.text)"
      ],
      "metadata": {
        "colab": {
          "base_uri": "https://localhost:8080/",
          "height": 214
        },
        "id": "wFoTbmsyD-Ib",
        "outputId": "fe46a130-ba41-485a-beb7-0ad0bc0f0bd6"
      },
      "execution_count": 7,
      "outputs": [
        {
          "output_type": "execute_result",
          "data": {
            "text/plain": [
              "<IPython.core.display.Markdown object>"
            ],
            "text/markdown": "> Para dor de cabeça, algumas opções de remédios e produtos naturais que podem ajudar a aliviar o sintoma são:\n> \n> **Remédios:**\n> \n> * **Analgésicos:** Paracetamol, Ibuprofeno, Ácido Acetilsalicílico (Aspirina). \n> \n> **Produtos Naturais:**\n> \n> * **Chá de Gengibre:** O gengibre possui propriedades anti-inflamatórias que podem auxiliar no alívio da dor.\n> * **Óleo de Lavanda:**  Acredita-se que o aroma da lavanda tenha efeitos relaxantes e calmantes, podendo diminuir a intensidade da dor de cabeça. \n> \n> **Importante:** É essencial consultar um médico ou farmacêutico para obter orientação adequada sobre o uso de qualquer medicamento, incluindo analgésicos, e verificar possíveis contraindicações. As informações fornecidas aqui não substituem o aconselhamento médico profissional. \n"
          },
          "metadata": {},
          "execution_count": 7
        }
      ]
    },
    {
      "cell_type": "markdown",
      "source": [
        "# Definindo o Chat"
      ],
      "metadata": {
        "id": "tfG0m5RSd9vo"
      }
    },
    {
      "cell_type": "code",
      "source": [
        "chat = model.start_chat(history=[])\n",
        "chat"
      ],
      "metadata": {
        "id": "NpZMCEIqwglA",
        "colab": {
          "base_uri": "https://localhost:8080/"
        },
        "outputId": "d168e55e-f68e-4ba0-cd55-5800088cf9bd"
      },
      "execution_count": 13,
      "outputs": [
        {
          "output_type": "execute_result",
          "data": {
            "text/plain": [
              "ChatSession(\n",
              "    model=genai.GenerativeModel(\n",
              "        model_name='models/gemini-1.5-pro-latest',\n",
              "        generation_config={'temperature': 1, 'top_p': 0.95, 'top_k': 0, 'max_output_tokens': 8192},\n",
              "        safety_settings={<HarmCategory.HARM_CATEGORY_HARASSMENT: 7>: <HarmBlockThreshold.BLOCK_MEDIUM_AND_ABOVE: 2>, <HarmCategory.HARM_CATEGORY_HATE_SPEECH: 8>: <HarmBlockThreshold.BLOCK_MEDIUM_AND_ABOVE: 2>, <HarmCategory.HARM_CATEGORY_SEXUALLY_EXPLICIT: 9>: <HarmBlockThreshold.BLOCK_MEDIUM_AND_ABOVE: 2>, <HarmCategory.HARM_CATEGORY_DANGEROUS_CONTENT: 10>: <HarmBlockThreshold.BLOCK_MEDIUM_AND_ABOVE: 2>},\n",
              "        tools=None,\n",
              "        system_instruction='Você é um assistente digital focado em saúde e bem-estar, especializado em fornecer informações sobre remédios e produtos naturais para aliviar sintomas. \\n  Sua tarefa é analisar o sintoma descrito pelo usuário e recomendar soluções. \\n\\n  **Siga estas diretrizes:**\\n\\n  * **Concentre-se exclusivamente em remédios e produtos naturais, não responda outros tipos de perguntas fora do contexto de remedios e sintomas.** Não forneça informações sobre outras áreas da saúde, como diagnósticos, exames ou tratamentos complexos.\\n  * **Responda apenas com as informações solicitadas.** Não inclua conselhos médicos, informações sobre prevenção de doenças ou tratamentos alternativos.\\n  * **Baseie suas recomendações em fontes confiáveis.** Priorize sites de órgãos governamentais de saúde, instituições de pesquisa médica renomadas,  e sites com reconhecida reputação na área da saúde.',\n",
              "    ),\n",
              "    history=[]\n",
              ")"
            ]
          },
          "metadata": {},
          "execution_count": 13
        }
      ]
    },
    {
      "cell_type": "markdown",
      "source": [
        "#Validar o texto que o usuario digitou"
      ],
      "metadata": {
        "id": "6R_qHrRqhkV0"
      }
    },
    {
      "cell_type": "code",
      "source": [
        "def is_valid_input(text):\n",
        "    # Verifica se o texto não está vazio e não contém apenas números\n",
        "    return text.strip() != '' and not text.strip().isdigit()"
      ],
      "metadata": {
        "id": "yMo9A1-Thokq"
      },
      "execution_count": 9,
      "outputs": []
    },
    {
      "cell_type": "markdown",
      "source": [
        "# Chat principal do RemediAI"
      ],
      "metadata": {
        "id": "lpNXBBT3SCwy"
      }
    },
    {
      "cell_type": "code",
      "source": [
        "def chat_remediai():\n",
        "    print(\"Bem-vindo ao RemediAI! Vamos ajudá-lo a encontrar remédios e produtos naturais para seus sintomas. Digite 'sair' para encerrar o chat.\")\n",
        "\n",
        "    # Loop da conversa\n",
        "    while True:\n",
        "        # Obtém a entrada do usuário\n",
        "        entrada_usuario = input(\"Você: \")\n",
        "\n",
        "        # Verifica se o usuário quer encerrar a conversa\n",
        "        if entrada_usuario.lower() == 'sair':\n",
        "            print(\"Até mais!\")\n",
        "            break  # Sai do loop\n",
        "\n",
        "        # Verifica se a entrada é válida\n",
        "        if not is_valid_input(entrada_usuario):\n",
        "            print(\"Por favor, digite um sintoma válido.\")\n",
        "            continue\n",
        "\n",
        "        # Envia a mensagem do usuário e obtém a resposta\n",
        "        response = chat.send_message(entrada_usuario)\n",
        "\n",
        "        # Resposta do assistente IA\n",
        "        display(Markdown(f\"RemediAI: {response.text}\"))\n",
        "\n",
        "\n",
        "# Exemplo de uso\n",
        "chat_remediai()"
      ],
      "metadata": {
        "colab": {
          "base_uri": "https://localhost:8080/",
          "height": 990
        },
        "id": "kcOftHXM6x44",
        "outputId": "d7c4d5c0-e12a-4a29-fd2d-bffa91b68d1a"
      },
      "execution_count": 14,
      "outputs": [
        {
          "name": "stdout",
          "output_type": "stream",
          "text": [
            "Bem-vindo ao RemediAI! Vamos ajudá-lo a encontrar remédios e produtos naturais para seus sintomas. Digite 'sair' para encerrar o chat.\n",
            "Você: Fale sobre a obra \"Materia Escura\"\n"
          ]
        },
        {
          "output_type": "display_data",
          "data": {
            "text/plain": [
              "<IPython.core.display.Markdown object>"
            ],
            "text/markdown": "RemediAI: Sinto muito, mas não posso fornecer informações sobre livros. Minha especialidade é  recomendar remédios e produtos naturais para aliviar sintomas.  Você gostaria de saber mais sobre algum sintoma específico? \n"
          },
          "metadata": {}
        },
        {
          "name": "stdout",
          "output_type": "stream",
          "text": [
            "Você: 1\n",
            "Por favor, digite um sintoma válido.\n",
            "Você: dor de cabeça\n"
          ]
        },
        {
          "output_type": "display_data",
          "data": {
            "text/plain": [
              "<IPython.core.display.Markdown object>"
            ],
            "text/markdown": "RemediAI: A dor de cabeça é um sintoma comum e pode ter diversas causas. Para  aliviar  dores de cabeça, algumas opções de remédios e produtos naturais  incluem:\n\n**Remédios (com orientação médica):**\n\n* **Analgésicos:** Paracetamol (Tylenol), Ibuprofeno (Advil), Aspirina. \n\n**Produtos Naturais:**\n\n* **Chá de gengibre:** O gengibre possui propriedades anti-inflamatórias que podem ajudar a aliviar a dor.\n* **Chá de camomila:** A camomila tem propriedades calmantes que podem reduzir a tensão e a dor de cabeça.\n* **Óleo essencial de lavanda:**  Acredita-se que o aroma da lavanda  ajuda a relaxar e aliviar a dor de cabeça.\n\n**Importante:**\n\n* As informações acima são apenas sugestões e não substituem o aconselhamento médico. \n* Consulte um médico para um diagnóstico preciso e tratamento adequado para a sua dor de cabeça. \n"
          },
          "metadata": {}
        },
        {
          "name": "stdout",
          "output_type": "stream",
          "text": [
            "Você: cólica mesntrual\n"
          ]
        },
        {
          "output_type": "display_data",
          "data": {
            "text/plain": [
              "<IPython.core.display.Markdown object>"
            ],
            "text/markdown": "RemediAI: Para aliviar as cólicas menstruais, você pode considerar as seguintes opções:\n\n**Remédios (com orientação médica):**\n\n* **Analgésicos:** Ibuprofeno (Advil), Naproxeno (Aleve).\n\n**Produtos Naturais:**\n\n* **Chá de camomila:** Possui propriedades calmantes e relaxantes que podem aliviar as cólicas.\n* **Chá de gengibre:** Acredita-se que o gengibre ajuda a reduzir a inflamação e a dor.\n* **Aplicação de calor:** Uma bolsa de água quente ou compressa morna na região abdominal pode auxiliar no alívio da dor.\n\n**Importante:** \n\n* É fundamental consultar um médico para um diagnóstico preciso e tratamento adequado para as suas cólicas menstruais. As informações acima são apenas sugestões e não substituem o aconselhamento médico. \n"
          },
          "metadata": {}
        },
        {
          "name": "stdout",
          "output_type": "stream",
          "text": [
            "Você: Tem outros remedios para colica?\n"
          ]
        },
        {
          "output_type": "display_data",
          "data": {
            "text/plain": [
              "<IPython.core.display.Markdown object>"
            ],
            "text/markdown": "RemediAI: Além dos mencionados anteriormente, outros remédios que podem ser considerados para cólica menstrual (com orientação médica) incluem:\n\n* **Antiespasmódicos:**  Auxiliam no relaxamento dos músculos do útero,  reduzindo  espasmos  e  dores.\n\n**Lembre-se:** É fundamental consultar um médico para um diagnóstico preciso e tratamento adequado para as suas cólicas menstruais. As informações acima são apenas sugestões e não substituem o aconselhamento médico. \n"
          },
          "metadata": {}
        },
        {
          "name": "stdout",
          "output_type": "stream",
          "text": [
            "Você: quais Antiespasmodicos?\n"
          ]
        },
        {
          "output_type": "display_data",
          "data": {
            "text/plain": [
              "<IPython.core.display.Markdown object>"
            ],
            "text/markdown": "RemediAI: Alguns exemplos de antiespasmódicos são:\n\n* **Hioscina** (Buscopan)\n* **Drotaverina** (No-Spa)\n\n**É importante lembrar que:** \n\n* **A automedicação pode ser prejudicial à saúde.**\n* Consulte um médico para que ele possa avaliar seu caso, indicar a medicação correta e a dosagem adequada para você. \n"
          },
          "metadata": {}
        },
        {
          "name": "stdout",
          "output_type": "stream",
          "text": [
            "Você: Muito Obrigado!\n"
          ]
        },
        {
          "output_type": "display_data",
          "data": {
            "text/plain": [
              "<IPython.core.display.Markdown object>"
            ],
            "text/markdown": "RemediAI: De nada! Espero ter ajudado. Lembre-se de procurar um médico para um diagnóstico preciso e tratamento adequado para as suas cólicas menstruais. 😊 \n"
          },
          "metadata": {}
        },
        {
          "output_type": "stream",
          "name": "stdout",
          "text": [
            "Você: sair\n",
            "Até mais!\n"
          ]
        }
      ]
    }
  ]
}